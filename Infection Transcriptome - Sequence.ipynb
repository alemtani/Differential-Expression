{
 "cells": [
  {
   "cell_type": "markdown",
   "metadata": {},
   "source": [
    "# Sequence - Part 2"
   ]
  },
  {
   "cell_type": "markdown",
   "metadata": {},
   "source": [
    "Now that we have the raw data, we must sequence it in a manner that will allow efficient data analysis. Here is what is next on the agenda:\n",
    "1. Trim low quality reads.\n",
    "2. Align high quality reads to the reference genome.\n",
    "3. Count the number of reads per gene.\n",
    "4. Normalize the data of counts."
   ]
  },
  {
   "cell_type": "markdown",
   "metadata": {},
   "source": [
    "## Trimmomatic"
   ]
  },
  {
   "cell_type": "markdown",
   "metadata": {},
   "source": [
    "Before we move to removing the low quality reads, it is important to have an understanding of what defines a low quality read. Low quality reads are:\n",
    "- Reads with low quality scores - the sequencing machine lacks confidence that the base read was correct\n",
    "    - Sometimes the fluorescent \"probe\" for tagging does not shine brightly enough to significantly ID the color and base\n",
    "    - Low diversity: If probes of the same color congregate at a certain point in the sequencing, the colors may blur and it becomes difficult to ID sequence\n",
    "- Reads clearly artifacts of chemistry\n",
    "    - Recall that a read is just the DNA fragment with adapters, which allow the sequencing machine to recognize fragments\n",
    "    - Sometimes the adapters accidentally bind to each other, and the \"read\" is nothing but the adapter sequence"
   ]
  },
  {
   "cell_type": "markdown",
   "metadata": {},
   "source": [
    "We will use the Java software [Trimmomatic](http://www.usadellab.org/cms/?page=trimmomatic) to trim and remove the low quality reads and adapter sequences. Make sure to download the zip file, extract it into a reachable location, and add the bin folder to your Path variable. The commands will follow this format:\n",
    "\n",
    "```\n",
    "java -jar trimmomatic-0.39.jar PE input_forward.fq.gz input_reverse.fq.gz output_forward_paired.fq.gz output_forward_unpaired.fq.gz output_reverse_paired.fq.gz output_reverse_unpaired.fq.gz ILLUMINACLIP:TruSeq3-PE.fa:2:30:10:2:keepBothReads LEADING:3 TRAILING:3 MINLEN:36\n",
    "```\n",
    "\n",
    "Don't worry too much about what this means, just trust that this will trim the data for you."
   ]
  },
  {
   "cell_type": "markdown",
   "metadata": {},
   "source": [
    "Thus, the set of commands to execute are:"
   ]
  },
  {
   "cell_type": "code",
   "execution_count": null,
   "metadata": {},
   "outputs": [],
   "source": [
    "!java -jar ./software/Trimmomatic-0.39/trimmomatic-0.39.jar PE \\\n",
    "    ./data/FASTQ/in_vitro_1/SRR6718408_1.fastq ./data/FASTQ/in_vitro_1/SRR6718408_2.fastq \\\n",
    "    ./data/cleanFASTQ/in_vitro_1/SRR6718408.forward_paired.fastq ./data/cleanFASTQ/in_vitro_1/SRR6718408.forward_unpaired.fastq \\\n",
    "    ./data/cleanFASTQ/in_vitro_1/SRR6718408.reverse_paired.fastq ./data/cleanFASTQ/in_vitro_1/SRR6718408.reverse_unpaired.fastq \\\n",
    "    ILLUMINACLIP:./software/Trimmomatic-0.39/adapters/TruSeq3-PE.fa:2:30:10:2:keepBothReads LEADING:3 TRAILING:3 MINLEN:36"
   ]
  },
  {
   "cell_type": "code",
   "execution_count": null,
   "metadata": {},
   "outputs": [],
   "source": [
    "!java -jar ./software/Trimmomatic-0.39/trimmomatic-0.39.jar PE \\\n",
    "    ./data/FASTQ/in_vitro_2/SRR6718407_1.fastq ./data/FASTQ/in_vitro_2/SRR6718407_2.fastq \\\n",
    "    ./data/cleanFASTQ/in_vitro_2/SRR6718407.forward_paired.fastq ./data/cleanFASTQ/in_vitro_2/SRR6718407.forward_unpaired.fastq \\\n",
    "    ./data/cleanFASTQ/in_vitro_2/SRR6718407.reverse_paired.fastq ./data/cleanFASTQ/in_vitro_2/SRR6718407.reverse_unpaired.fastq \\\n",
    "    ILLUMINACLIP:./software/Trimmomatic-0.39/adapters/TruSeq3-PE.fa:2:30:10:2:keepBothReads LEADING:3 TRAILING:3 MINLEN:36"
   ]
  },
  {
   "cell_type": "code",
   "execution_count": null,
   "metadata": {},
   "outputs": [],
   "source": [
    "!java -jar ./software/Trimmomatic-0.39/trimmomatic-0.39.jar PE \\\n",
    "    ./data/FASTQ/in_vitro_3/SRR6718400_1.fastq ./data/FASTQ/in_vitro_3/SRR6718400_2.fastq \\\n",
    "    ./data/cleanFASTQ/in_vitro_3/SRR6718400.forward_paired.fastq ./data/cleanFASTQ/in_vitro_3/SRR6718400.forward_unpaired.fastq \\\n",
    "    ./data/cleanFASTQ/in_vitro_3/SRR6718400.reverse_paired.fastq ./data/cleanFASTQ/in_vitro_3/SRR6718400.reverse_unpaired.fastq \\\n",
    "    ILLUMINACLIP:./software/Trimmomatic-0.39/adapters/TruSeq3-PE.fa:2:30:10:2:keepBothReads LEADING:3 TRAILING:3 MINLEN:36"
   ]
  },
  {
   "cell_type": "code",
   "execution_count": null,
   "metadata": {},
   "outputs": [],
   "source": [
    "!java -jar ./software/Trimmomatic-0.39/trimmomatic-0.39.jar PE \\\n",
    "    ./data/FASTQ/in_vivo_1/SRR6718403_1.fastq ./data/FASTQ/in_vivo_1/SRR6718403_2.fastq \\\n",
    "    ./data/cleanFASTQ/in_vivo_1/SRR6718403.forward_paired.fastq ./data/cleanFASTQ/in_vivo_1/SRR6718403.forward_unpaired.fastq \\\n",
    "    ./data/cleanFASTQ/in_vivo_1/SRR6718403.reverse_paired.fastq ./data/cleanFASTQ/in_vivo_1/SRR6718403.reverse_unpaired.fastq \\\n",
    "    ILLUMINACLIP:./software/Trimmomatic-0.39/adapters/TruSeq3-PE.fa:2:30:10:2:keepBothReads LEADING:3 TRAILING:3 MINLEN:36"
   ]
  },
  {
   "cell_type": "code",
   "execution_count": null,
   "metadata": {},
   "outputs": [],
   "source": [
    "!java -jar ./software/Trimmomatic-0.39/trimmomatic-0.39.jar PE \\\n",
    "    ./data/FASTQ/in_vivo_2/SRR6718406_1.fastq ./data/FASTQ/in_vivo_2/SRR6718406_2.fastq \\\n",
    "    ./data/cleanFASTQ/in_vivo_2/SRR6718406.forward_paired.fastq ./data/cleanFASTQ/in_vivo_2/SRR6718406.forward_unpaired.fastq \\\n",
    "    ./data/cleanFASTQ/in_vivo_2/SRR6718406.reverse_paired.fastq ./data/cleanFASTQ/in_vivo_2/SRR6718406.reverse_unpaired.fastq \\\n",
    "    ILLUMINACLIP:./software/Trimmomatic-0.39/adapters/TruSeq3-PE.fa:2:30:10:2:keepBothReads LEADING:3 TRAILING:3 MINLEN:36"
   ]
  },
  {
   "cell_type": "code",
   "execution_count": null,
   "metadata": {},
   "outputs": [],
   "source": [
    "!java -jar ./software/Trimmomatic-0.39/trimmomatic-0.39.jar PE \\\n",
    "    ./data/FASTQ/in_vivo_3/SRR6718405_1.fastq ./data/FASTQ/in_vivo_3/SRR6718405_2.fastq \\\n",
    "    ./data/cleanFASTQ/in_vivo_3/SRR6718405.forward_paired.fastq ./data/cleanFASTQ/in_vivo_3/SRR6718405.forward_unpaired.fastq \\\n",
    "    ./data/cleanFASTQ/in_vivo_3/SRR6718405.reverse_paired.fastq ./data/cleanFASTQ/in_vivo_3/SRR6718405.reverse_unpaired.fastq \\\n",
    "    ILLUMINACLIP:./software/Trimmomatic-0.39/adapters/TruSeq3-PE.fa:2:30:10:2:keepBothReads LEADING:3 TRAILING:3 MINLEN:36"
   ]
  },
  {
   "cell_type": "markdown",
   "metadata": {},
   "source": [
    "The best way to sum these set commands is that you have two FASTQ input files, one forward-paired and one reverse-paired, and four output files after the trimming. Two of the output files are for the \"paired\" output where both reads survived the processing, and two are \"unpaired\" output where one read survived, but the other did not."
   ]
  },
  {
   "cell_type": "markdown",
   "metadata": {},
   "source": [
    "## Kallisto"
   ]
  },
  {
   "cell_type": "markdown",
   "metadata": {},
   "source": [
    "### MicrobesOnline"
   ]
  },
  {
   "cell_type": "markdown",
   "metadata": {},
   "source": [
    "In order to map our reads to the reference genome, we must get the reference transcriptome first. [MicrobesOnline](http://www.microbesonline.org/) is a database of microbial genomes. We are interested in mapping the reads to the [*Bordetella pertussis* Tohama I](http://www.microbesonline.org/cgi-bin/genomeInfo.cgi?tId=257313) reference genome, according to the study. Go the the link and choose the FASTA transcriptome zip file. Extract the zip file into **/data/microbesOnline** to get the genomic data file."
   ]
  },
  {
   "cell_type": "markdown",
   "metadata": {},
   "source": [
    "### Aligning and Counting Reads"
   ]
  },
  {
   "cell_type": "markdown",
   "metadata": {},
   "source": [
    "[Kallisto](https://pachterlab.github.io/kallisto/) is a program that quantifies transcripts using a procedure called pseudoalignment. Psuedoalignment processes a transcriptome file to create a \"transcriptome index\", which is considerably faster than read alignment."
   ]
  },
  {
   "cell_type": "markdown",
   "metadata": {},
   "source": [
    "We begin by creating the index. First download the latest stable version of Kallisto and extract it into an accessible directory. If you bump into errors on the terminal, you could instead simply create a copy of the program and paste it in the same path as the notebook. Nevertheless, I used this command to create the index from the FASTA file, the format to store the raw transcriptome:"
   ]
  },
  {
   "cell_type": "code",
   "execution_count": null,
   "metadata": {},
   "outputs": [],
   "source": [
    "!kallisto.exe index -i ./data/kallisto/transcripts.idx ./data/microbesOnline/257313.transcriptomes.fasta"
   ]
  },
  {
   "cell_type": "markdown",
   "metadata": {},
   "source": [
    "After creating the index, you can now align the read files with the genome and count the reads at the same time. All in one command! The commands will follow this format:\n",
    "\n",
    "```\n",
    "kallisto quant -i transcripts.idx -o output reads_1.fastq.gz reads_2.fastq.gz\n",
    "```\n",
    "\n",
    "A few things to note:\n",
    "- `quant` : The quantification algorithm\n",
    "- `-i` : Indicates that the following file will contain the index to map to\n",
    "- `-o` : Indicates the directory to write output to"
   ]
  },
  {
   "cell_type": "markdown",
   "metadata": {},
   "source": [
    "Follow the next set of commands to get a file for the levels of gene expression for each sample:"
   ]
  },
  {
   "cell_type": "code",
   "execution_count": null,
   "metadata": {},
   "outputs": [],
   "source": [
    "!kallisto.exe quant -i ./data/kallisto/transcripts.idx -o ./data/kallisto/in_vitro_1/ \\\n",
    "    ./data/cleanFASTQ/in_vitro_1/SRR6718408.forward_paired.fastq ./data/cleanFASTQ/in_vitro_1/SRR6718408.reverse_paired.fastq"
   ]
  },
  {
   "cell_type": "code",
   "execution_count": null,
   "metadata": {},
   "outputs": [],
   "source": [
    "!kallisto.exe quant -i ./data/kallisto/transcripts.idx -o ./data/kallisto/in_vitro_2/ \\\n",
    "    ./data/cleanFASTQ/in_vitro_2/SRR6718407.forward_paired.fastq ./data/cleanFASTQ/in_vitro_2/SRR6718407.reverse_paired.fastq"
   ]
  },
  {
   "cell_type": "code",
   "execution_count": null,
   "metadata": {},
   "outputs": [],
   "source": [
    "!kallisto.exe quant -i ./data/kallisto/transcripts.idx -o ./data/kallisto/in_vitro_3/ \\\n",
    "    ./data/cleanFASTQ/in_vitro_3/SRR6718400.forward_paired.fastq ./data/cleanFASTQ/in_vitro_3/SRR6718400.reverse_paired.fastq"
   ]
  },
  {
   "cell_type": "code",
   "execution_count": null,
   "metadata": {},
   "outputs": [],
   "source": [
    "!kallisto.exe quant -i ./data/kallisto/transcripts.idx -o ./data/kallisto/in_vivo_1/ \\\n",
    "    ./data/cleanFASTQ/in_vivo_1/SRR6718403.forward_paired.fastq ./data/cleanFASTQ/in_vivo_1/SRR6718403.reverse_paired.fastq"
   ]
  },
  {
   "cell_type": "code",
   "execution_count": null,
   "metadata": {},
   "outputs": [],
   "source": [
    "!kallisto.exe quant -i ./data/kallisto/transcripts.idx -o ./data/kallisto/in_vivo_2/ \\\n",
    "    ./data/cleanFASTQ/in_vivo_2/SRR6718406.forward_paired.fastq ./data/cleanFASTQ/in_vivo_2/SRR6718406.reverse_paired.fastq"
   ]
  },
  {
   "cell_type": "code",
   "execution_count": null,
   "metadata": {},
   "outputs": [],
   "source": [
    "!kallisto.exe quant -i ./data/kallisto/transcripts.idx -o ./data/kallisto/in_vivo_3/ \\\n",
    "    ./data/cleanFASTQ/in_vivo_3/SRR6718405.forward_paired.fastq ./data/cleanFASTQ/in_vivo_3/SRR6718405.reverse_paired.fastq"
   ]
  },
  {
   "cell_type": "markdown",
   "metadata": {},
   "source": [
    "You will find the results of the run in the specified output directory. You will see three files, but the one that we care about is in the \"abundance.tsv\" file. Abundances are reported in \"estimated counts\" in Transcripts Per Million (TPM). Understand that this means that the data is already normalized, specifically in terms of gene kilobase (kb) length and sequencing depth, measuring the proportion of confident reads to the total sequence. Furthermore, this will allow easy comparison of the proportion of reads mapped to what in each genome sample, the whole point of RNA-seq.\n",
    "\n",
    "You can open up the file using any text editor of your choice. In it you should find five columns:\n",
    "1. The first column is **target_id**, the ID of the transcript from the downloaded FASTA.\n",
    "2. The second column is **length**, the length of the transcript in base pairs.\n",
    "3. The third column is **eff_length**, or effective length, being the length of the original transcript matching the reads.\n",
    "4. The fourth column is **est_counts**, or estimated counts, essentially the same as counts.\n",
    "5. The fifth column in **tpm**, transcripts per million, the metric for measuring gene expression."
   ]
  },
  {
   "cell_type": "markdown",
   "metadata": {},
   "source": [
    "Next up, we will do the data analysis using Python to visulaize the differential expression."
   ]
  }
 ],
 "metadata": {
  "kernelspec": {
   "display_name": "Python 3",
   "language": "python",
   "name": "python3"
  },
  "language_info": {
   "codemirror_mode": {
    "name": "ipython",
    "version": 3
   },
   "file_extension": ".py",
   "mimetype": "text/x-python",
   "name": "python",
   "nbconvert_exporter": "python",
   "pygments_lexer": "ipython3",
   "version": "3.8.3"
  }
 },
 "nbformat": 4,
 "nbformat_minor": 4
}
