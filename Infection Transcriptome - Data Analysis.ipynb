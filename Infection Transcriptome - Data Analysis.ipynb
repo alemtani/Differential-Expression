{
 "cells": [
  {
   "cell_type": "markdown",
   "metadata": {},
   "source": [
    "# Infection Transcriptome - Data Analysis"
   ]
  },
  {
   "cell_type": "markdown",
   "metadata": {},
   "source": [
    "Now that we have normalized data for each of the read counts, we can now begin to visualize the differentiation in the counts. We will use Principal Component Analysis (PCA) and create a heatmap for data visualiztaion. However, as we are dealing with an abundance of genes (at least four is what matters), we must reduce the variations across genes into two axes. This is the first goal: to reduce dimensionality of variation to clearly identify differences."
   ]
  },
  {
   "cell_type": "markdown",
   "metadata": {},
   "source": [
    "## Principal Component Analysis"
   ]
  },
  {
   "cell_type": "markdown",
   "metadata": {},
   "source": [
    "Principal Component Analysis (PCA) focuses on reducing the dimensionality of multiple measurements, in this case the TPM of genes, to delinate variations between data sets. The basis is to create a best-fit line, called PC1, of the plotted points due to measures of gene counts. The data is then shifted with the best-fit line so that the best-fit line hits the origin. A second best-fit line is then plotted, PC2, long it be perpendicular to PC1 and is the best-fit in the limited dimension. The x/y plot can be created with PC1 treated as the x-axis and PC2 as the y-axis."
   ]
  },
  {
   "cell_type": "markdown",
   "metadata": {},
   "source": [
    "Too long, didn't read; PCA is simply a tool that allows us to visualize the differentiation of the transcriptomes. Here's how to do it:"
   ]
  },
  {
   "cell_type": "markdown",
   "metadata": {},
   "source": [
    "### Setup"
   ]
  },
  {
   "cell_type": "markdown",
   "metadata": {},
   "source": [
    "Make sure to setup your working directory."
   ]
  },
  {
   "cell_type": "code",
   "execution_count": 1,
   "metadata": {},
   "outputs": [],
   "source": [
    "import os\n",
    "\n",
    "os.environ['WORKDIR'] = './data'"
   ]
  },
  {
   "cell_type": "markdown",
   "metadata": {},
   "source": [
    "### Dependencies"
   ]
  },
  {
   "cell_type": "markdown",
   "metadata": {},
   "source": [
    "You will need the following libaries, which can be imported using the pip command on your terminal."
   ]
  },
  {
   "cell_type": "code",
   "execution_count": 2,
   "metadata": {},
   "outputs": [],
   "source": [
    "import pandas as pd # \"Panel data\" package allows easy manipulation of data\n",
    "import numpy as np # Allows us to do important math\n",
    "from sklearn.decomposition import PCA # Importing PCA function from sklearn\n",
    "from sklearn import preprocessing # Package to scale data\n",
    "import matplotlib.pyplot as plt # Allows you to draw graphs"
   ]
  },
  {
   "cell_type": "markdown",
   "metadata": {},
   "source": [
    "### Loading Data"
   ]
  },
  {
   "cell_type": "markdown",
   "metadata": {},
   "source": [
    "We must now load the data of all the tpm counts for each sample. However, according to the study, we must filter out transcripts that are lowly expressed in all samples, with a total count filter cutoff of five. Therefore, we must load both the estimated counts and transcripts per million data for the filtering and the charting, respectively."
   ]
  },
  {
   "cell_type": "code",
   "execution_count": 3,
   "metadata": {},
   "outputs": [
    {
     "name": "stdout",
     "output_type": "stream",
     "text": [
      "            vit1 vit2 vit3 viv1 viv2 viv3\n",
      "VIMSS511295   13    5   16   18   48   43\n",
      "VIMSS511296    7    6    1    1   10    5\n",
      "VIMSS511297    8    4    3    9    9   12\n",
      "VIMSS511298    8    4    4    1    6    5\n",
      "VIMSS511299   12   11   10    4    9   13\n",
      "(2978, 6)\n"
     ]
    }
   ],
   "source": [
    "# Import data\n",
    "# Access est_counts for filtering and scaling\n",
    "vit1 = pd.read_table(os.environ['WORKDIR'] + '/kallisto/in_vitro_1/abundance.tsv', usecols=['target_id', 'est_counts'])\n",
    "vit2 = pd.read_table(os.environ['WORKDIR'] + '/kallisto/in_vitro_2/abundance.tsv', usecols=['target_id', 'est_counts'])\n",
    "vit3 = pd.read_table(os.environ['WORKDIR'] + '/kallisto/in_vitro_3/abundance.tsv', usecols=['target_id', 'est_counts'])\n",
    "viv1 = pd.read_table(os.environ['WORKDIR'] + '/kallisto/in_vivo_1/abundance.tsv', usecols=['target_id', 'est_counts'])\n",
    "viv2 = pd.read_table(os.environ['WORKDIR'] + '/kallisto/in_vivo_2/abundance.tsv', usecols=['target_id', 'est_counts'])\n",
    "viv3 = pd.read_table(os.environ['WORKDIR'] + '/kallisto/in_vivo_3/abundance.tsv', usecols=['target_id', 'est_counts'])\n",
    "\n",
    "# Merge samples into one table, where the row represents transcripts and columns for each sample\n",
    "data = pd.DataFrame(columns=['vit1','vit2','vit3','viv1','viv2','viv3'], index=list(map(lambda pair:pair[0], vit1.values)))\n",
    "\n",
    "# Collect rows where total counts are less than five to filter later\n",
    "cutoff = 5\n",
    "lows = []\n",
    "for i in range(len(data.index)):\n",
    "    gene = data.index[i]\n",
    "    counts = sum([vit1.iloc[i][1], vit2.iloc[i][1], vit3.iloc[i][1], viv1.iloc[i][1], viv2.iloc[i][1], viv3.iloc[i][1]])\n",
    "    if counts < cutoff:\n",
    "        lows.append(gene)\n",
    "    data.loc[gene, 'vit1'] = vit1.iloc[i][1]\n",
    "    data.loc[gene, 'vit2'] = vit2.iloc[i][1]\n",
    "    data.loc[gene, 'vit3'] = vit3.iloc[i][1]\n",
    "    data.loc[gene, 'viv1'] = viv1.iloc[i][1]\n",
    "    data.loc[gene, 'viv2'] = viv2.iloc[i][1]\n",
    "    data.loc[gene, 'viv3'] = viv3.iloc[i][1]\n",
    "\n",
    "# Filter collected rows - doing it in loop messes things up!\n",
    "data.drop(index=lows, inplace=True)\n",
    "\n",
    "# Clear memory, samples no longer needed\n",
    "del vit1,vit2,vit3,viv1,viv2,viv3\n",
    "\n",
    "# Display data counts and dimensions\n",
    "print(data.head())\n",
    "print(data.shape)"
   ]
  },
  {
   "cell_type": "markdown",
   "metadata": {},
   "source": [
    "### Scaling and Centering"
   ]
  },
  {
   "cell_type": "markdown",
   "metadata": {},
   "source": [
    "We will center and scale the data. After centering, the average value of each gene will be scaled to zero (i.e. transcripts that have a lower expression of that gene will have a negative gene measure). After scaling, the standard deviation of the values of the genes will be one. Citation: I must give complete credit at this point to this [StatQuest](https://www.youtube.com/watch?v=Lsue2gEM9D0&list=PLblh5JKOoLUJo2Q6xK4tZElbIvAACEykp&index=5) video to explain how to do Python PCA for RNA-seq. Really appreciate the video."
   ]
  },
  {
   "cell_type": "code",
   "execution_count": 4,
   "metadata": {},
   "outputs": [],
   "source": [
    "# Transpose (data.T) because scale function expects samples as rows\n",
    "scaled_data = preprocessing.StandardScaler().fit_transform(data.T)"
   ]
  },
  {
   "cell_type": "markdown",
   "metadata": {},
   "source": [
    "### Sklearn"
   ]
  },
  {
   "cell_type": "markdown",
   "metadata": {},
   "source": [
    "The next few steps may seem like a breeze, but it is important to understand the process of creating a PCA graph.\n",
    "- Create as many best-fit lines the number of genes; this is the number of dimensions of measurements. Check out this video from [StatQuest](https://www.youtube.com/watch?v=FgakZw6K1QQ&list=PLblh5JKOoLUJo2Q6xK4tZElbIvAACEykp&index=3) to learn more.\n",
    "- There is a new x/y plot of PC1/PC2, the \"loading scores\", or proportion of each genes due to the best fit line, that create the greatest variation, and the original points of gene expressions are projected based on original projections to the lines."
   ]
  },
  {
   "cell_type": "code",
   "execution_count": 5,
   "metadata": {},
   "outputs": [],
   "source": [
    "# Create PCA object\n",
    "pca = PCA()\n",
    "\n",
    "# # Fit the scaled data\n",
    "pca.fit(scaled_data)\n",
    "\n",
    "# # Generate coordinates for PCA graph by loading scores and scaled data\n",
    "pca_data = pca.transform(scaled_data)"
   ]
  },
  {
   "cell_type": "markdown",
   "metadata": {},
   "source": [
    "## Scree Plot"
   ]
  },
  {
   "cell_type": "markdown",
   "metadata": {},
   "source": [
    "Scree plots are useful for presenting the variation of gene expression between samples due to loading scores, the combinations of genes that make up a unit vector on the PCA line. This will tell us which combinations account for the greatest variation, allowing the best representation of differential expression."
   ]
  },
  {
   "cell_type": "code",
   "execution_count": 6,
   "metadata": {},
   "outputs": [
    {
     "data": {
      "image/png": "[encoded data removed]",
      "text/plain": [
       "<Figure size 432x288 with 1 Axes>"
      ]
     },
     "metadata": {
      "needs_background": "light"
     },
     "output_type": "display_data"
    }
   ],
   "source": [
    "# Calculate percentage of variation of each principal component (loading score)\n",
    "per_var = np.round(pca.explained_variance_ratio_* 100, decimals=1)\n",
    "\n",
    "# Create labels for scree plot - one per principal component\n",
    "labels = ['PC' + str(x) for x in range(1, len(per_var)+1)]\n",
    "\n",
    "# Matplotlib to create bar chart\n",
    "plt.bar(x=range(1,len(per_var)+1), height=per_var, tick_label=labels)\n",
    "plt.ylabel('Percentage of Explained Variance')\n",
    "plt.xlabel('Principal Component')\n",
    "plt.title('Scree Plot')\n",
    "plt.show()"
   ]
  },
  {
   "cell_type": "markdown",
   "metadata": {},
   "source": [
    "### PCA Plot (finally)"
   ]
  },
  {
   "cell_type": "markdown",
   "metadata": {},
   "source": [
    "It seems that there are three principal components with a significant explained variance, so we will create three graphs to chart each relationship."
   ]
  },
  {
   "cell_type": "code",
   "execution_count": 7,
   "metadata": {},
   "outputs": [
    {
     "data": {
      "image/png": "[encoded data removed]",
      "text/plain": [
       "<Figure size 432x288 with 1 Axes>"
      ]
     },
     "metadata": {
      "needs_background": "light"
     },
     "output_type": "display_data"
    }
   ],
   "source": [
    "# Create PCA plot in matrix where rows are sample labels and columns are PC labels\n",
    "pca_df = pd.DataFrame(pca_data, index=data.columns, columns=labels)\n",
    "\n",
    "# Draw scatter plot with title and axis labels\n",
    "plt.scatter(pca_df.PC1, pca_df.PC2)\n",
    "plt.title('My PCA Graph')\n",
    "plt.xlabel('PC1 - {0}%'.format(per_var[0]))\n",
    "plt.ylabel('PC2 - {0}%'.format(per_var[1]))\n",
    "\n",
    "# Add sample names to graph\n",
    "for sample in pca_df.index:\n",
    "    plt.annotate(sample, (pca_df.PC1.loc[sample], pca_df.PC2.loc[sample]))\n",
    "\n",
    "# Display graph\n",
    "plt.show()"
   ]
  },
  {
   "cell_type": "markdown",
   "metadata": {},
   "source": [
    "The *in vivo* samples seem to be quite differentially expressed in terms of PC1. On the other hand, the PC2 seems to do a better job of charting the differences between the transcripts. There is certainly uncertainty in the experiment, but differentiation exists between the two groups.\n",
    "\n",
    "My hypothesis would be that the *in vivo* transcripts are more differentiated from each other than *in vitro* transcripts because of differences in environment. The lab environments *in vitro* are more the less the same when testing the same species. In the study, however, it was noted that the *in vivo* gene expression profile did not precisely match the virulence gene expression and additional factors independent from the gene system are involved in the pathogenesis and survival of *B. pertussis* during infection. In fact, there seemed to be no correlation between virulence activated genes *in vivo* and *in vitro*. The counterintuitive results suggests that perhaps the bacteria were in difference virulent phases depending on the factors such as nutrient availability and growth conditions within the murine lung environment, which would lead to different expression of transcripts."
   ]
  },
  {
   "cell_type": "code",
   "execution_count": 8,
   "metadata": {},
   "outputs": [
    {
     "data": {
      "image/png": "[encoded data removed]",
      "text/plain": [
       "<Figure size 432x288 with 1 Axes>"
      ]
     },
     "metadata": {
      "needs_background": "light"
     },
     "output_type": "display_data"
    }
   ],
   "source": [
    "# Create PCA plot in matrix where rows are sample labels and columns are PC labels\n",
    "pca_df = pd.DataFrame(pca_data, index=data.columns, columns=labels)\n",
    "\n",
    "# Draw scatter plot with title and axis labels\n",
    "plt.scatter(pca_df.PC1, pca_df.PC3)\n",
    "plt.title('My PCA Graph')\n",
    "plt.xlabel('PC1 - {0}%'.format(per_var[0]))\n",
    "plt.ylabel('PC3 - {0}%'.format(per_var[1]))\n",
    "\n",
    "# Add sample names to graph\n",
    "for sample in pca_df.index:\n",
    "    plt.annotate(sample, (pca_df.PC1.loc[sample], pca_df.PC3.loc[sample]))\n",
    "\n",
    "# Display graph\n",
    "plt.show()"
   ]
  },
  {
   "cell_type": "markdown",
   "metadata": {},
   "source": [
    "It seems that PC3 does not seem to project the differences between the sample groups definitively, also possibly due to variation in the environment."
   ]
  },
  {
   "cell_type": "code",
   "execution_count": 9,
   "metadata": {},
   "outputs": [
    {
     "data": {
      "image/png": "[encoded data removed]",
      "text/plain": [
       "<Figure size 432x288 with 1 Axes>"
      ]
     },
     "metadata": {
      "needs_background": "light"
     },
     "output_type": "display_data"
    }
   ],
   "source": [
    "# Create PCA plot in matrix where rows are sample labels and columns are PC labels\n",
    "pca_df = pd.DataFrame(pca_data, index=data.columns, columns=labels)\n",
    "\n",
    "# Draw scatter plot with title and axis labels\n",
    "plt.scatter(pca_df.PC2, pca_df.PC3)\n",
    "plt.title('My PCA Graph')\n",
    "plt.xlabel('PC2 - {0}%'.format(per_var[0]))\n",
    "plt.ylabel('PC3 - {0}%'.format(per_var[1]))\n",
    "\n",
    "# Add sample names to graph\n",
    "for sample in pca_df.index:\n",
    "    plt.annotate(sample, (pca_df.PC2.loc[sample], pca_df.PC3.loc[sample]))\n",
    "\n",
    "# Display graph\n",
    "plt.show()"
   ]
  },
  {
   "cell_type": "markdown",
   "metadata": {},
   "source": [
    "It seems that PC2 best demonstrates the differential expression between the two groups of samples. Accordingly, there were four groups of virulent genes that were consistently activiated when infecting the murine host: iron acquisition, type III secretion system, pertussis toxin (PT), and secretion. When we do our loading scores analysis, perhaps we can expect to see high loading scores for those genes for PC2."
   ]
  },
  {
   "cell_type": "markdown",
   "metadata": {},
   "source": [
    "### Loading Scores"
   ]
  },
  {
   "cell_type": "markdown",
   "metadata": {},
   "source": [
    "Perhaps this will allow us to explain the relatively disappointing results of our PCA graph. We want to determine which genes had the largest influence on separating the two clusters for each graph, so maybe there will be insights. We will do the loading scores for the three principal components below."
   ]
  },
  {
   "cell_type": "code",
   "execution_count": 10,
   "metadata": {},
   "outputs": [
    {
     "name": "stdout",
     "output_type": "stream",
     "text": [
      "VIMSS514526    0.029356\n",
      "VIMSS513974    0.029324\n",
      "VIMSS515063    0.029286\n",
      "VIMSS514456    0.029273\n",
      "VIMSS512264    0.029209\n",
      "VIMSS514361    0.029162\n",
      "VIMSS513728    0.029093\n",
      "VIMSS513729    0.029091\n",
      "VIMSS513819    0.029066\n",
      "VIMSS513777    0.029059\n",
      "dtype: float64\n"
     ]
    }
   ],
   "source": [
    "# Create pandas \"Series\" with loading scores\n",
    "loading_scores = pd.Series(pca.components_[0], index=data.index)\n",
    "\n",
    "# Sort loading scores based on magnitude\n",
    "sorted_loading_scores = loading_scores.abs().sort_values(ascending=False)\n",
    "\n",
    "# Get names of top 10 gene names\n",
    "top_10_genes = sorted_loading_scores[0:10].index.values\n",
    "\n",
    "# Print out top ten gene names and loading scores\n",
    "print(loading_scores[top_10_genes])"
   ]
  },
  {
   "cell_type": "code",
   "execution_count": 11,
   "metadata": {},
   "outputs": [
    {
     "name": "stdout",
     "output_type": "stream",
     "text": [
      "VIMSS512701   -0.036064\n",
      "VIMSS513077   -0.036057\n",
      "VIMSS514844   -0.036047\n",
      "VIMSS511715   -0.036047\n",
      "VIMSS514141   -0.035986\n",
      "VIMSS511548   -0.035974\n",
      "VIMSS513057   -0.035936\n",
      "VIMSS514241   -0.035888\n",
      "VIMSS515115   -0.035869\n",
      "VIMSS512132   -0.035855\n",
      "dtype: float64\n"
     ]
    }
   ],
   "source": [
    "# Create pandas \"Series\" with loading scores\n",
    "loading_scores = pd.Series(pca.components_[1], index=data.index)\n",
    "\n",
    "# Sort loading scores based on magnitude\n",
    "sorted_loading_scores = loading_scores.abs().sort_values(ascending=False)\n",
    "\n",
    "# Get names of top 10 gene names\n",
    "top_10_genes = sorted_loading_scores[0:10].index.values\n",
    "\n",
    "# Print out top ten gene names and loading scores\n",
    "print(loading_scores[top_10_genes])"
   ]
  },
  {
   "cell_type": "code",
   "execution_count": 12,
   "metadata": {},
   "outputs": [
    {
     "name": "stdout",
     "output_type": "stream",
     "text": [
      "VIMSS512081    0.038777\n",
      "VIMSS513980    0.038688\n",
      "VIMSS512518    0.038688\n",
      "VIMSS514756    0.038593\n",
      "VIMSS512735    0.038486\n",
      "VIMSS513858    0.038404\n",
      "VIMSS514897    0.038403\n",
      "VIMSS513100    0.038384\n",
      "VIMSS514891    0.038366\n",
      "VIMSS512034    0.038269\n",
      "dtype: float64\n"
     ]
    }
   ],
   "source": [
    "# Create pandas \"Series\" with loading scores\n",
    "loading_scores = pd.Series(pca.components_[2], index=data.index)\n",
    "\n",
    "# Sort loading scores based on magnitude\n",
    "sorted_loading_scores = loading_scores.abs().sort_values(ascending=False)\n",
    "\n",
    "# Get names of top 10 gene names\n",
    "top_10_genes = sorted_loading_scores[0:10].index.values\n",
    "\n",
    "# Print out top ten gene names and loading scores\n",
    "print(loading_scores[top_10_genes])"
   ]
  },
  {
   "cell_type": "markdown",
   "metadata": {},
   "source": [
    "These tell us the genes that cause the greatest differentiation in expression between the samples. Perhaps the best set of transcripts to determine differential expression between the two groups of samples would be PC2; however, it is important to consider all sets to avoid confirmation bias. Furthermore, there is a relative cluster in PC1 for the *in vivo* transcripts, with the exception of an outlier.\n",
    "\n",
    "Two takeaways: first that at least we can see that the *in vivo* transcripts and *in vitro* transcripts are differentially expressed and second, the *in vitro* transcripts are more or less similarly expressed, while *in vivo* transcripts forming a less definitve, if at all, cluster."
   ]
  },
  {
   "cell_type": "markdown",
   "metadata": {},
   "source": [
    "## Heatmap"
   ]
  },
  {
   "cell_type": "markdown",
   "metadata": {},
   "source": [
    "My ultimate goal of this project was to try to create a heatmap to represent the expression of genes in each sample. This is what we attempt to do today. No section-by-section analysis, simply code to run the heatmap, as it is quite simple to code.\n",
    "\n",
    "Of course, this will not be any ordinary heatmap. We will rely on hierarchical clustering to group the genes according to similar expression. Technically the first step is to scale the data, but it is already scaled for us by using TPM."
   ]
  },
  {
   "cell_type": "code",
   "execution_count": 13,
   "metadata": {},
   "outputs": [],
   "source": [
    "# Import seaborn to use clustermap\n",
    "import seaborn as sns"
   ]
  },
  {
   "cell_type": "code",
   "execution_count": 14,
   "metadata": {},
   "outputs": [],
   "source": [
    "# Do color coding\n",
    "sns.set(color_codes=True)"
   ]
  },
  {
   "cell_type": "markdown",
   "metadata": {},
   "source": [
    "We will focus on the top ten genes for PC2 to get the greatest differentiation between the two sample groups."
   ]
  },
  {
   "cell_type": "code",
   "execution_count": 15,
   "metadata": {},
   "outputs": [
    {
     "name": "stdout",
     "output_type": "stream",
     "text": [
      "VIMSS512701   -0.036064\n",
      "VIMSS513077   -0.036057\n",
      "VIMSS514844   -0.036047\n",
      "VIMSS511715   -0.036047\n",
      "VIMSS514141   -0.035986\n",
      "VIMSS511548   -0.035974\n",
      "VIMSS513057   -0.035936\n",
      "VIMSS514241   -0.035888\n",
      "VIMSS515115   -0.035869\n",
      "VIMSS512132   -0.035855\n",
      "dtype: float64\n"
     ]
    }
   ],
   "source": [
    "# Create pandas \"Series\" with loading scores\n",
    "loading_scores = pd.Series(pca.components_[1], index=data.index)\n",
    "\n",
    "# Sort loading scores based on magnitude\n",
    "sorted_loading_scores = loading_scores.abs().sort_values(ascending=False)\n",
    "\n",
    "# Get names of top 10 gene names\n",
    "top_10_genes = sorted_loading_scores[0:10].index.values\n",
    "\n",
    "# Print out top ten gene names and loading scores\n",
    "print(loading_scores[top_10_genes])"
   ]
  },
  {
   "cell_type": "code",
   "execution_count": 16,
   "metadata": {},
   "outputs": [
    {
     "name": "stdout",
     "output_type": "stream",
     "text": [
      "                vit1     vit2     vit3     viv1     viv2     viv3\n",
      "VIMSS511548      431  374.922  394.694  138.196   138.82  195.392\n",
      "VIMSS511715  9.54521  8.53339  8.35354        0  2.08367  2.99121\n",
      "VIMSS512132   193.02  151.535  164.241  15.3449  44.3485  58.8144\n",
      "VIMSS512701   177.13  154.383  155.276  79.7134  68.6389  98.3579\n",
      "VIMSS513057  376.761  320.989  323.126  126.187  122.358  191.197\n",
      "(10, 6)\n"
     ]
    }
   ],
   "source": [
    "# Import data\n",
    "# Access est_counts for filtering and scaling\n",
    "# However, now using tpm for scaled data\n",
    "vit1 = pd.read_table(os.environ['WORKDIR'] + '/kallisto/in_vitro_1/abundance.tsv', usecols=['target_id', 'est_counts', 'tpm'])\n",
    "vit2 = pd.read_table(os.environ['WORKDIR'] + '/kallisto/in_vitro_2/abundance.tsv', usecols=['target_id', 'est_counts', 'tpm'])\n",
    "vit3 = pd.read_table(os.environ['WORKDIR'] + '/kallisto/in_vitro_3/abundance.tsv', usecols=['target_id', 'est_counts', 'tpm'])\n",
    "viv1 = pd.read_table(os.environ['WORKDIR'] + '/kallisto/in_vivo_1/abundance.tsv', usecols=['target_id', 'est_counts', 'tpm'])\n",
    "viv2 = pd.read_table(os.environ['WORKDIR'] + '/kallisto/in_vivo_2/abundance.tsv', usecols=['target_id', 'est_counts', 'tpm'])\n",
    "viv3 = pd.read_table(os.environ['WORKDIR'] + '/kallisto/in_vivo_3/abundance.tsv', usecols=['target_id', 'est_counts', 'tpm'])\n",
    "\n",
    "# Merge samples into one table, where the row represents transcripts and columns for each sample\n",
    "data = pd.DataFrame(columns=['vit1','vit2','vit3','viv1','viv2','viv3'], index=list(map(lambda pair:pair[0], vit1.values)))\n",
    "\n",
    "# Collect rows where total counts are less than five to filter later\n",
    "cutoff = 5\n",
    "lows = []\n",
    "for i in range(len(data.index)):\n",
    "    gene = data.index[i]\n",
    "    counts = sum([vit1.iloc[i][1], vit2.iloc[i][1], vit3.iloc[i][1], viv1.iloc[i][1], viv2.iloc[i][1], viv3.iloc[i][1]])\n",
    "    if counts < cutoff or gene not in top_10_genes:\n",
    "        lows.append(gene)\n",
    "    data.loc[gene, 'vit1'] = vit1.iloc[i][2]\n",
    "    data.loc[gene, 'vit2'] = vit2.iloc[i][2]\n",
    "    data.loc[gene, 'vit3'] = vit3.iloc[i][2]\n",
    "    data.loc[gene, 'viv1'] = viv1.iloc[i][2]\n",
    "    data.loc[gene, 'viv2'] = viv2.iloc[i][2]\n",
    "    data.loc[gene, 'viv3'] = viv3.iloc[i][2]\n",
    "\n",
    "# Filter collected rows - doing it in loop messes things up!\n",
    "data.drop(index=lows, inplace=True)\n",
    "\n",
    "# Clear memory, samples no longer needed\n",
    "del vit1,vit2,vit3,viv1,viv2,viv3\n",
    "\n",
    "# Display data counts and dimensions\n",
    "print(data.head())\n",
    "print(data.shape)"
   ]
  },
  {
   "cell_type": "code",
   "execution_count": 17,
   "metadata": {},
   "outputs": [
    {
     "data": {
      "text/plain": [
       "<seaborn.matrix.ClusterGrid at 0x235a185e400>"
      ]
     },
     "execution_count": 17,
     "metadata": {},
     "output_type": "execute_result"
    },
    {
     "data": {
      "image/png": "[encoded data removed]",
      "text/plain": [
       "<Figure size 720x720 with 4 Axes>"
      ]
     },
     "metadata": {},
     "output_type": "display_data"
    }
   ],
   "source": [
    "# Create clustermap after converting values to float\n",
    "data = data[data.columns].astype(float)\n",
    "sns.clustermap(data)"
   ]
  },
  {
   "cell_type": "markdown",
   "metadata": {},
   "source": [
    "Here the evidence of differential expression is evident between the two groups of samples. We can see that the *in vitro* samples have very similar transcriptome expressions, and can generally be distinguished from the *in vivo* samples. This is one of the benefits of creating a heatmap: visualizing the differences through color as it pops out to the human eye."
   ]
  },
  {
   "cell_type": "markdown",
   "metadata": {},
   "source": [
    "## Conclusion"
   ]
  },
  {
   "cell_type": "markdown",
   "metadata": {},
   "source": [
    "Overall, while this is simply the beginning of data analysis for RNA-seq, it is a start. While we did not get the clear, distinctive differential clustering of the *in vivo* and *in vitro* samples of *B. pertussis* as we had expected, we were still able to see clear differentiation in expression. This was the ultimate goal of this project: to visualize differential expression using a dataset, and thus we were successful.\n",
    "\n",
    "Perhaps in terms of scientific study, the most important takeaway is the loading scores. Looking at what genes created the greatest variation for the principal component best differentiating the two sample groups will determine differential expression for the infection transcriptome. It is possible that the other two principal components were due to experimental uncertainty, however, and should not be ignored. Rather, those loading scores should be analyzed to understand potential improvements to both the experiment and analysis. Neither are perfect; very likely it would be my analysis more off the mark.\n",
    "\n",
    "This was an excellenet learning experience. At least we know how to create these data visualization techniques, and that will always be important in modeling. In terms of systems thinking, here are a few takeaways:\n",
    "- Influence of multiple genes and transcripts in differential expression\n",
    "- The variation of the transcripts of *in vivo* samples, suggesting the influence of external factors\n",
    "- Correlation between expression of genes, such as the activation of one gene prompting the activation/reduction in another\n",
    "\n",
    "That is a wrap for the tutorial. Please let me know if you have any concerns in the issues page on the Github, and I would be happy to reach out."
   ]
  }
 ],
 "metadata": {
  "kernelspec": {
   "display_name": "Python 3",
   "language": "python",
   "name": "python3"
  },
  "language_info": {
   "codemirror_mode": {
    "name": "ipython",
    "version": 3
   },
   "file_extension": ".py",
   "mimetype": "text/x-python",
   "name": "python",
   "nbconvert_exporter": "python",
   "pygments_lexer": "ipython3",
   "version": "3.8.3"
  }
 },
 "nbformat": 4,
 "nbformat_minor": 4
}
